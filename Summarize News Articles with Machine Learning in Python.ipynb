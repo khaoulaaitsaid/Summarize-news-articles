{
 "cells": [
  {
   "cell_type": "code",
   "execution_count": 4,
   "id": "3f4abb77-2b08-46a0-a7da-7dbdebf24e07",
   "metadata": {},
   "outputs": [],
   "source": [
    "import tkinter as tk\n",
    "import nltk\n",
    "from textblob import TextBlob\n",
    "from newspaper import Article\n"
   ]
  },
  {
   "cell_type": "code",
   "execution_count": 5,
   "id": "d40a64c8-2e5a-4b81-895a-8e5bced357ed",
   "metadata": {},
   "outputs": [],
   "source": [
    "url = 'https://www.lemonde.fr/idees/article/2023/11/17/finance-durable-donner-la-possibilite-aux-epargnants-de-mieux-integrer-les-questions-environnementales-et-sociales-dans-leurs-choix-d-investissement_6200712_3232.html'\n",
    "article = Article(url)\n",
    "article.download()\n",
    "article.parse()\n",
    "article.nlp()"
   ]
  },
  {
   "cell_type": "code",
   "execution_count": 7,
   "id": "dafa6b82-18e1-45f5-a0bc-4969b6a687e4",
   "metadata": {},
   "outputs": [
    {
     "name": "stderr",
     "output_type": "stream",
     "text": [
      "[nltk_data] Downloading package punkt to\n",
      "[nltk_data]     C:\\Users\\FUJITSU\\AppData\\Roaming\\nltk_data...\n"
     ]
    },
    {
     "name": "stdout",
     "output_type": "stream",
     "text": [
      "title:Finance durable : « Donner la possibilité aux épargnants de mieux intégrer les questions environnementales et sociales dans leurs choix d’investissement »\n",
      "Authors:['Philippe Escande', 'Isabelle Combarel', 'Gestionnaire De Fonds', 'Sylvie Kauffmann', 'Editorialiste Au', 'Monde', 'Philippe Ricard', 'Michel Guerrin', 'Rédacteur En Chef Au', 'Magali Cartigny']\n",
      "Publication Date:2023-11-17 00:00:00\n",
      "Summary:Depuis le début des années 1970, de nombreuses initiatives ont cherché à intégrer des dimensions sociales et environnementales dans les métiers de la finance.\n",
      "Ce mouvement s’est fortement accéléré depuis la COP21 (2015) et le lancement par la Commission européenne du plan d’action sur la finance durable (2018).\n",
      "Cette situation a abouti à une forme de confusion généralisée et à des accusations de greenwashing d’un acteur à l’autre.\n",
      "L’objectif est clair : mieux structurer le marché et donner ainsi la possibilité aux épargnants de mieux intégrer les questions environnementales et sociales dans leurs choix d’investissement.\n",
      "Sur les sujets environnementaux, on ne compte plus les fonds permettant de financer les énergies renouvelables, l’efficacité énergétique, la mobilité verte, l’hydrogène ou la préservation du capital naturel.\n"
     ]
    },
    {
     "name": "stderr",
     "output_type": "stream",
     "text": [
      "[nltk_data]   Package punkt is already up-to-date!\n"
     ]
    }
   ],
   "source": [
    "nltk.download('punkt')\n",
    "print(f'title:{article.title}')\n",
    "print(f'Authors:{article.authors}')\n",
    "print(f'Publication Date:{article.publish_date}')\n",
    "print(f'Summary:{article.summary}')\n"
   ]
  },
  {
   "cell_type": "code",
   "execution_count": 8,
   "id": "ef48b300-ba26-4536-9c84-1b8ba7f41432",
   "metadata": {},
   "outputs": [
    {
     "name": "stdout",
     "output_type": "stream",
     "text": [
      "0.18051948051948052\n"
     ]
    }
   ],
   "source": [
    "analysis = TextBlob(article.text)\n",
    "print(analysis.polarity)"
   ]
  },
  {
   "cell_type": "code",
   "execution_count": 9,
   "id": "9f60c802-ded7-4973-bfaa-c4347bf38456",
   "metadata": {},
   "outputs": [
    {
     "name": "stdout",
     "output_type": "stream",
     "text": [
      "Sentiment:positive\n"
     ]
    }
   ],
   "source": [
    "print(f'Sentiment:{\"positive\" if analysis.polarity > 0 else \"negative\" if analysis.polarity < 0 else \"neutral\"}')"
   ]
  },
  {
   "cell_type": "code",
   "execution_count": null,
   "id": "cde17f52-9cc3-48ae-9430-342616d3617b",
   "metadata": {},
   "outputs": [],
   "source": [
    "#build a graphical user interface\n",
    "Cette ligne définit la taille initiale de la fenêtre. Dans ce cas, la fenêtre est initialement configurée pour avoir une largeur de \n",
    "1200 pixels et une hauteur de 600 pixels."
   ]
  },
  {
   "cell_type": "code",
   "execution_count": 171,
   "id": "df9c40cc-a1ad-4a7a-ad3a-ff8848e48868",
   "metadata": {},
   "outputs": [
    {
     "data": {
      "text/plain": [
       "''"
      ]
     },
     "execution_count": 171,
     "metadata": {},
     "output_type": "execute_result"
    }
   ],
   "source": [
    "root = tk.Tk()\n",
    "root.title(\"News Summarizer\")\n",
    "root.geometry('1200x600')\n"
   ]
  },
  {
   "cell_type": "code",
   "execution_count": 173,
   "id": "dbba2de8-615b-4814-a377-13ba6263899d",
   "metadata": {},
   "outputs": [],
   "source": [
    "tlabel = tk.Label(root, text=\"Title\")\n",
    "tlabel.pack()"
   ]
  },
  {
   "cell_type": "code",
   "execution_count": 174,
   "id": "f56dc10d-10f0-4b04-917f-54bf510e44ef",
   "metadata": {},
   "outputs": [],
   "source": [
    "title = tk.Text(root, height=1, width=140)\n",
    "title.config(state='disabled', bg='#dddddd')\n",
    "title.pack()\n"
   ]
  },
  {
   "cell_type": "code",
   "execution_count": 175,
   "id": "6e45ce91-347e-4494-9ac0-27d630bed12d",
   "metadata": {},
   "outputs": [],
   "source": [
    "alabel = tk.Label(root, text=\"Author\")\n",
    "alabel.pack()\n",
    "author = tk.Text(root, height=1, width=140)\n",
    "author.config(state='disabled', bg='#dddddd')\n",
    "author.pack()"
   ]
  },
  {
   "cell_type": "code",
   "execution_count": 176,
   "id": "4d7aa8c2-a0a1-48bb-8610-9a8f740c50b2",
   "metadata": {},
   "outputs": [],
   "source": [
    "plabel = tk.Label(root, text=\"Publishing Date\")\n",
    "plabel.pack()\n",
    "publication = tk.Text(root, height=1, width=140)\n",
    "publication.config(state='disabled', bg='#dddddd')\n",
    "publication.pack()"
   ]
  },
  {
   "cell_type": "code",
   "execution_count": 177,
   "id": "8ddbc713-30af-46cb-bc8b-13dd9337f81e",
   "metadata": {},
   "outputs": [],
   "source": [
    "slabel = tk.Label(root, text=\"Summary\")\n",
    "slabel.pack()\n",
    "summary = tk.Text(root, height=20, width=140)\n",
    "summary.config(state='disabled', bg='#dddddd')\n",
    "summary.pack()"
   ]
  },
  {
   "cell_type": "code",
   "execution_count": 178,
   "id": "265676b4-79e9-4962-a9bf-aa4808a40408",
   "metadata": {},
   "outputs": [],
   "source": [
    "selabel = tk.Label(root, text=\"Sentiment\")\n",
    "selabel.pack()\n",
    "sentiment = tk.Text(root, height=1, width=140)\n",
    "sentiment.config(state='disabled', bg='#dddddd')\n",
    "sentiment.pack()"
   ]
  },
  {
   "cell_type": "code",
   "execution_count": 179,
   "id": "52903414-eb74-436c-9593-bbbb8e2e4853",
   "metadata": {},
   "outputs": [],
   "source": [
    "ulabel = tk.Label(root, text=\"URL\")\n",
    "ulabel.pack()\n",
    "url = tk.Text(root, height=1, width=140)\n",
    "url.config(bg='#dddddd')\n",
    "url.pack()"
   ]
  },
  {
   "cell_type": "code",
   "execution_count": 181,
   "id": "07a25975-1630-4ef0-bebf-d0020d8e1cba",
   "metadata": {},
   "outputs": [],
   "source": [
    "def summarize():\n",
    "    url_text = url.get(\"1.0\", \"end\").strip()\n",
    "    article = Article(url_text)\n",
    "    article.download()\n",
    "    article.parse()\n",
    "    article.nlp()\n",
    "    nltk.download('punkt')\n",
    "    \n",
    "    title.config(state='normal')\n",
    "    author.config(state='normal')\n",
    "    publication.config(state='normal')\n",
    "    summary.config(state='normal')\n",
    "    sentiment.config(state='normal')\n",
    "\n",
    "    title.delete(\"1.0\", \"end\")\n",
    "    title.insert(\"1.0\", article.title)\n",
    "\n",
    "    author.delete(\"1.0\", \"end\")\n",
    "    author.insert(\"1.0\", article.authors)\n",
    "\n",
    "    publication.delete(\"1.0\", \"end\")\n",
    "    publication.insert(\"1.0\", article.publish_date)\n",
    "    summary.delete(\"1.0\", \"end\")\n",
    "    summary.insert(\"1.0\", article.summary)\n",
    "\n",
    "    analysis = TextBlob(article.text)\n",
    "    sentiment.delete(\"1.0\", \"end\")\n",
    "    sentiment.insert(\"1.0\", f'Polarity: {analysis.polarity}, Sentiment: {\"positive\" if analysis.polarity > 0 else \"negative\" if analysis.polarity < 0 else \"neutral\"}')\n",
    "    \n",
    "    title.config(state='disabled')\n",
    "    author.config(state='disabled')\n",
    "    publication.config(state='disabled')\n",
    "    summary.config(state='disabled')\n",
    "    sentiment.config(state='disabled')\n",
    "\n",
    "btn = tk.Button(root, text=\"Summarize\", command=summarize)\n",
    "btn.pack()\n",
    "\n"
   ]
  },
  {
   "cell_type": "code",
   "execution_count": 182,
   "id": "2a8255b7-88ba-46db-b3fa-361076de9759",
   "metadata": {},
   "outputs": [
    {
     "name": "stderr",
     "output_type": "stream",
     "text": [
      "[nltk_data] Downloading package punkt to\n",
      "[nltk_data]     C:\\Users\\FUJITSU\\AppData\\Roaming\\nltk_data...\n",
      "[nltk_data]   Package punkt is already up-to-date!\n",
      "[nltk_data] Downloading package punkt to\n",
      "[nltk_data]     C:\\Users\\FUJITSU\\AppData\\Roaming\\nltk_data...\n",
      "[nltk_data]   Package punkt is already up-to-date!\n",
      "[nltk_data] Downloading package punkt to\n",
      "[nltk_data]     C:\\Users\\FUJITSU\\AppData\\Roaming\\nltk_data...\n",
      "[nltk_data]   Package punkt is already up-to-date!\n",
      "[nltk_data] Downloading package punkt to\n",
      "[nltk_data]     C:\\Users\\FUJITSU\\AppData\\Roaming\\nltk_data...\n",
      "[nltk_data]   Package punkt is already up-to-date!\n",
      "[nltk_data] Downloading package punkt to\n",
      "[nltk_data]     C:\\Users\\FUJITSU\\AppData\\Roaming\\nltk_data...\n",
      "[nltk_data]   Package punkt is already up-to-date!\n",
      "[nltk_data] Downloading package punkt to\n",
      "[nltk_data]     C:\\Users\\FUJITSU\\AppData\\Roaming\\nltk_data...\n",
      "[nltk_data]   Package punkt is already up-to-date!\n"
     ]
    }
   ],
   "source": [
    "root.mainloop()"
   ]
  },
  {
   "cell_type": "code",
   "execution_count": null,
   "id": "095edc7a-ee38-47bb-9506-bf007d27d8b5",
   "metadata": {},
   "outputs": [],
   "source": []
  },
  {
   "cell_type": "code",
   "execution_count": null,
   "id": "18adac9c-b69e-456e-bfbc-47db22b6e5b6",
   "metadata": {},
   "outputs": [],
   "source": []
  }
 ],
 "metadata": {
  "kernelspec": {
   "display_name": "Python 3 (ipykernel)",
   "language": "python",
   "name": "python3"
  },
  "language_info": {
   "codemirror_mode": {
    "name": "ipython",
    "version": 3
   },
   "file_extension": ".py",
   "mimetype": "text/x-python",
   "name": "python",
   "nbconvert_exporter": "python",
   "pygments_lexer": "ipython3",
   "version": "3.11.3"
  }
 },
 "nbformat": 4,
 "nbformat_minor": 5
}
